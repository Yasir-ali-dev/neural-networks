{
 "cells": [
  {
   "cell_type": "code",
   "execution_count": 8,
   "metadata": {},
   "outputs": [],
   "source": [
    "inputs = [ 1 , 2 , 3 ]\n",
    "weights = [ 0.2 , 0.8 , - 0.5 ]\n",
    "bias = 2"
   ]
  },
  {
   "cell_type": "code",
   "execution_count": 9,
   "metadata": {},
   "outputs": [
    {
     "name": "stdout",
     "output_type": "stream",
     "text": [
      "2.3\n"
     ]
    }
   ],
   "source": [
    "output=(inputs[0]*weights[0]+inputs[1]*weights[1]+inputs[2]*weights[2])+bias\n",
    "print(output)\n"
   ]
  },
  {
   "cell_type": "code",
   "execution_count": 10,
   "metadata": {},
   "outputs": [],
   "source": [
    "inputs = [ 1.0 , 2.0 , 3.0 , 2.5 ]\n",
    "weights = [ 0.2 , 0.8 , - 0.5 , 1.0 ]\n",
    "bias = 2.0"
   ]
  },
  {
   "cell_type": "code",
   "execution_count": 11,
   "metadata": {},
   "outputs": [
    {
     "name": "stdout",
     "output_type": "stream",
     "text": [
      "4.8\n"
     ]
    }
   ],
   "source": [
    "output=(inputs[0]*weights[0]+inputs[1]*weights[1]+inputs[2]*weights[2]+inputs[3]*weights[3])+bias\n",
    "print(output)"
   ]
  },
  {
   "cell_type": "code",
   "execution_count": 12,
   "metadata": {},
   "outputs": [
    {
     "name": "stdout",
     "output_type": "stream",
     "text": [
      "[4.8, 1.21, 2.385]\n"
     ]
    }
   ],
   "source": [
    "inputs = [ 1 , 2 , 3 , 2.5 ]\n",
    "weights = [\n",
    "    [ 0.2 , 0.8 , - 0.5 , 1 ],\n",
    "    [ 0.5 , - 0.91 , 0.26 , - 0.5 ],\n",
    "    [ - 0.26 , - 0.27 , 0.17 , 0.87 ]\n",
    "]\n",
    "biases = [ 2 , 3 , 0.5 ]\n",
    "# Output of current layer\n",
    "layer_outputs = []\n",
    "\n",
    "for n_biases, neuron_weights in zip(biases,weights):\n",
    "    output_neuron=0\n",
    "\n",
    "    for n_inputs, weight in zip(inputs,neuron_weights):\n",
    "        output_neuron+= n_inputs*weight\n",
    "\n",
    "    output_neuron+=n_biases    \n",
    "    layer_outputs.append(output_neuron)\n",
    "\n",
    "print(layer_outputs)    \n"
   ]
  },
  {
   "cell_type": "code",
   "execution_count": 13,
   "metadata": {},
   "outputs": [
    {
     "name": "stdout",
     "output_type": "stream",
     "text": [
      "20\n"
     ]
    }
   ],
   "source": [
    "# dot product \n",
    "\n",
    "a = [ 1 , 2 , 3 ]\n",
    "b = [ 2 , 3 , 4 ]\n",
    "\n",
    "dot_product=0\n",
    "for as_elem,bs_elem in zip(a,b):\n",
    "    dot_product+=as_elem*bs_elem\n",
    "\n",
    "print(dot_product)    "
   ]
  },
  {
   "cell_type": "code",
   "execution_count": 14,
   "metadata": {},
   "outputs": [
    {
     "ename": "AttributeError",
     "evalue": "'list' object has no attribute 'astype'",
     "output_type": "error",
     "traceback": [
      "\u001b[1;31m---------------------------------------------------------------------------\u001b[0m",
      "\u001b[1;31mAttributeError\u001b[0m                            Traceback (most recent call last)",
      "\u001b[1;32md:\\Machine Learning\\Artificial Neural Networks\\neuron.ipynb Cell 7\u001b[0m in \u001b[0;36m<cell line: 7>\u001b[1;34m()\u001b[0m\n\u001b[0;32m      <a href='vscode-notebook-cell:/d%3A/Machine%20Learning/Artificial%20Neural%20Networks/neuron.ipynb#W6sZmlsZQ%3D%3D?line=3'>4</a>\u001b[0m weights \u001b[39m=\u001b[39m [ \u001b[39m0.2\u001b[39m , \u001b[39m0.8\u001b[39m , \u001b[39m-\u001b[39m \u001b[39m0.5\u001b[39m , \u001b[39m1.0\u001b[39m ]\n\u001b[0;32m      <a href='vscode-notebook-cell:/d%3A/Machine%20Learning/Artificial%20Neural%20Networks/neuron.ipynb#W6sZmlsZQ%3D%3D?line=4'>5</a>\u001b[0m bias \u001b[39m=\u001b[39m \u001b[39m2.0\u001b[39m\n\u001b[1;32m----> <a href='vscode-notebook-cell:/d%3A/Machine%20Learning/Artificial%20Neural%20Networks/neuron.ipynb#W6sZmlsZQ%3D%3D?line=6'>7</a>\u001b[0m dot_product\u001b[39m=\u001b[39mnp\u001b[39m.\u001b[39;49mdot(inputs,weights)\u001b[39m+\u001b[39mbias\n\u001b[0;32m      <a href='vscode-notebook-cell:/d%3A/Machine%20Learning/Artificial%20Neural%20Networks/neuron.ipynb#W6sZmlsZQ%3D%3D?line=7'>8</a>\u001b[0m \u001b[39mprint\u001b[39m(dot_product)\n",
      "File \u001b[1;32mc:\\Python\\lib\\site-packages\\nnfs\\core.py:22\u001b[0m, in \u001b[0;36minit.<locals>.dot\u001b[1;34m(*args, **kwargs)\u001b[0m\n\u001b[0;32m     21\u001b[0m \u001b[39mdef\u001b[39;00m \u001b[39mdot\u001b[39m(\u001b[39m*\u001b[39margs, \u001b[39m*\u001b[39m\u001b[39m*\u001b[39mkwargs):\n\u001b[1;32m---> 22\u001b[0m     \u001b[39mreturn\u001b[39;00m orig_dot(\u001b[39m*\u001b[39m[a\u001b[39m.\u001b[39mastype(\u001b[39m'\u001b[39m\u001b[39mfloat64\u001b[39m\u001b[39m'\u001b[39m) \u001b[39mfor\u001b[39;00m a \u001b[39min\u001b[39;00m args], \u001b[39m*\u001b[39m\u001b[39m*\u001b[39mkwargs)\u001b[39m.\u001b[39mastype(\u001b[39m'\u001b[39m\u001b[39mfloat32\u001b[39m\u001b[39m'\u001b[39m)\n",
      "File \u001b[1;32mc:\\Python\\lib\\site-packages\\nnfs\\core.py:22\u001b[0m, in \u001b[0;36m<listcomp>\u001b[1;34m(.0)\u001b[0m\n\u001b[0;32m     21\u001b[0m \u001b[39mdef\u001b[39;00m \u001b[39mdot\u001b[39m(\u001b[39m*\u001b[39margs, \u001b[39m*\u001b[39m\u001b[39m*\u001b[39mkwargs):\n\u001b[1;32m---> 22\u001b[0m     \u001b[39mreturn\u001b[39;00m orig_dot(\u001b[39m*\u001b[39m[a\u001b[39m.\u001b[39;49mastype(\u001b[39m'\u001b[39m\u001b[39mfloat64\u001b[39m\u001b[39m'\u001b[39m) \u001b[39mfor\u001b[39;00m a \u001b[39min\u001b[39;00m args], \u001b[39m*\u001b[39m\u001b[39m*\u001b[39mkwargs)\u001b[39m.\u001b[39mastype(\u001b[39m'\u001b[39m\u001b[39mfloat32\u001b[39m\u001b[39m'\u001b[39m)\n",
      "\u001b[1;31mAttributeError\u001b[0m: 'list' object has no attribute 'astype'"
     ]
    }
   ],
   "source": [
    "# A single neuron with numpy\n",
    "import numpy as np\n",
    "inputs = [ 1.0 , 2.0 , 3.0 , 2.5 ]\n",
    "weights = [ 0.2 , 0.8 , - 0.5 , 1.0 ]\n",
    "bias = 2.0\n",
    "\n",
    "dot_product=np.dot(inputs,weights)+bias\n",
    "print(dot_product)"
   ]
  },
  {
   "cell_type": "code",
   "execution_count": null,
   "metadata": {},
   "outputs": [
    {
     "name": "stdout",
     "output_type": "stream",
     "text": [
      "[4.8   1.21  2.385]\n"
     ]
    }
   ],
   "source": [
    "# A Layer of Neurons with NumPy\n",
    "import numpy as np\n",
    "inputs = [ 1.0 , 2.0 , 3.0 , 2.5 ]\n",
    "weights = [\n",
    "    [ 0.2 , 0.8 , - 0.5 , 1 ],\n",
    "    [ 0.5 , - 0.91 , 0.26 , - 0.5 ],\n",
    "    [ - 0.26 , - 0.27 , 0.17 , 0.87 ]\n",
    "]\n",
    "biases = [ 2.0 , 3.0 , 0.5 ]\n",
    "\n",
    "dot_product=np.dot(weights,inputs)+biases\n",
    "print(dot_product)"
   ]
  },
  {
   "cell_type": "code",
   "execution_count": null,
   "metadata": {},
   "outputs": [
    {
     "name": "stdout",
     "output_type": "stream",
     "text": [
      "[[30]]\n"
     ]
    }
   ],
   "source": [
    "# row matrix and column matrix \n",
    "a=[[1,3,4]]\n",
    "b=[[1],\n",
    "   [3],\n",
    "   [5]]\n",
    "\n",
    "print(np.dot(a,b))"
   ]
  },
  {
   "cell_type": "code",
   "execution_count": null,
   "metadata": {},
   "outputs": [
    {
     "name": "stdout",
     "output_type": "stream",
     "text": [
      "[[13]]\n"
     ]
    }
   ],
   "source": [
    "# Transposition\n",
    "\n",
    "import numpy as np\n",
    "a=[1,3,4]\n",
    "b=[3,2,1]\n",
    "\n",
    "a=np.array([a])\n",
    "# transposition\n",
    "b=np.array([b]).T\n",
    "\n",
    "dot_product=np.dot(a,b)\n",
    "print(dot_product)"
   ]
  },
  {
   "cell_type": "code",
   "execution_count": null,
   "metadata": {},
   "outputs": [
    {
     "name": "stdout",
     "output_type": "stream",
     "text": [
      "[[ 4.8    1.21   2.385]\n",
      " [ 8.9   -1.81   0.2  ]\n",
      " [ 1.41   1.051  0.026]]\n"
     ]
    }
   ],
   "source": [
    "# A Layer of Neurons & Batch of Data w/ NumPy\n",
    "import numpy as np\n",
    "inputs = [\n",
    "    [ 1.0 , 2.0 , 3.0 , 2.5 ],\n",
    "    [ 2.0 , 5.0 , - 1.0 , 2.0 ],\n",
    "    [ - 1.5 , 2.7 , 3.3 , - 0.8 ]\n",
    "]\n",
    "weights = [\n",
    "    [ 0.2 , 0.8 , - 0.5 , 1.0 ],\n",
    "    [ 0.5 , - 0.91 , 0.26 , - 0.5 ],\n",
    "    [ - 0.26 , - 0.27 , 0.17 , 0.87 ]\n",
    "]\n",
    "biases = [ 2.0 , 3.0 , 0.5 ]\n",
    "\n",
    "weights=np.array(weights).T #transposition matrixes \n",
    "layer_output=np.dot(inputs,weights)+biases\n",
    "print(layer_output)\n"
   ]
  },
  {
   "cell_type": "code",
   "execution_count": 1,
   "metadata": {},
   "outputs": [
    {
     "name": "stdout",
     "output_type": "stream",
     "text": [
      "[[ 0.5031  -1.04185 -2.03875]\n",
      " [ 0.2434  -2.7332  -5.7633 ]\n",
      " [-0.99314  1.41254 -0.35655]]\n"
     ]
    }
   ],
   "source": [
    "import numpy as np\n",
    "inputs = [[ 1 , 2 , 3 , 2.5 ], [ 2. , 5. , - 1. , 2 ], [ - 1.5 , 2.7 , 3.3 , - 0.8 ]]\n",
    "weights = [\n",
    "    [ 0.2 , 0.8 , - 0.5 , 1 ],\n",
    "    [ 0.5 , - 0.91 , 0.26 , - 0.5 ],\n",
    "    [ - 0.26 , - 0.27 , 0.17 , 0.87 ]\n",
    "]\n",
    "biases = [ 2 , 3 , 0.5 ]\n",
    "\n",
    "weights2 = [\n",
    "    [ 0.1 , - 0.14 , 0.5 ],\n",
    "    [ - 0.5 , 0.12 , - 0.33 ],\n",
    "    [ - 0.44 , 0.73 , - 0.13 ]\n",
    "]\n",
    "biases2 = [ - 1 , 2 , - 0.5 ]\n",
    "\n",
    "output_layer1=np.dot(inputs,np.array(weights).T)+biases\n",
    "\n",
    "output_layer=np.dot(output_layer1,np.array( weights2).T)+biases2\n",
    "\n",
    "print(output_layer)"
   ]
  },
  {
   "cell_type": "code",
   "execution_count": null,
   "metadata": {},
   "outputs": [
    {
     "name": "stdout",
     "output_type": "stream",
     "text": [
      "Requirement already satisfied: nnfs in c:\\python\\lib\\site-packages (0.5.1)\n",
      "Requirement already satisfied: numpy in c:\\python\\lib\\site-packages (from nnfs) (1.22.4)\n",
      "\n",
      "[notice] A new release of pip available: 22.1.2 -> 23.2.1\n",
      "[notice] To update, run: python.exe -m pip install --upgrade pip\n"
     ]
    },
    {
     "name": "stderr",
     "output_type": "stream",
     "text": [
      "WARNING: Ignoring invalid distribution -ip (c:\\python\\lib\\site-packages)\n",
      "WARNING: Ignoring invalid distribution -ip (c:\\python\\lib\\site-packages)\n",
      "WARNING: Ignoring invalid distribution -ip (c:\\python\\lib\\site-packages)\n",
      "WARNING: Ignoring invalid distribution -ip (c:\\python\\lib\\site-packages)\n",
      "WARNING: Ignoring invalid distribution -ip (c:\\python\\lib\\site-packages)\n",
      "WARNING: Ignoring invalid distribution -ip (c:\\python\\lib\\site-packages)\n"
     ]
    }
   ],
   "source": [
    "# installing nnfs\n",
    "!pip install nnfs"
   ]
  },
  {
   "cell_type": "code",
   "execution_count": null,
   "metadata": {},
   "outputs": [
    {
     "data": {
      "text/plain": [
       "<matplotlib.collections.PathCollection at 0x21665a45120>"
      ]
     },
     "execution_count": 25,
     "metadata": {},
     "output_type": "execute_result"
    },
    {
     "data": {
      "image/png": "[encoded data removed]",
      "text/plain": [
       "<Figure size 432x288 with 1 Axes>"
      ]
     },
     "metadata": {
      "needs_background": "light"
     },
     "output_type": "display_data"
    }
   ],
   "source": [
    "from nnfs.datasets import spiral_data\n",
    "import matplotlib.pyplot as plt \n",
    "import nnfs \n",
    "nnfs.init() #random seed and default float dtypes\n",
    "\n",
    "X,y = spiral_data(classes=2,samples=100)\n",
    "\n",
    "plt.scatter(X[:,0],X[:,1],c=y,cmap=\"brg\")   #1 feature or class & 2 feature or class  \n",
    "\n",
    "\n"
   ]
  },
  {
   "cell_type": "code",
   "execution_count": null,
   "metadata": {},
   "outputs": [],
   "source": [
    "#class Layer_Dense :\n",
    "    #def __init__ ( self , n_inputs , n_neurons ):\n",
    "        # Initialize weights and biases\n",
    "        #pass # using pass statement as a placeholder\n",
    "    # Forward pass\n",
    "    #def forward ( self , inputs ):\n",
    "    # Calculate output values from inputs, weights and biases\n",
    "    #pass # using pass statement as a placeholder"
   ]
  },
  {
   "cell_type": "code",
   "execution_count": 4,
   "metadata": {},
   "outputs": [
    {
     "name": "stdout",
     "output_type": "stream",
     "text": [
      "[[0.5488135  0.71518937 0.60276338 0.54488318 0.4236548 ]\n",
      " [0.64589411 0.43758721 0.891773   0.96366276 0.38344152]]\n",
      "[[0. 0. 0.]\n",
      " [0. 0. 0.]]\n"
     ]
    }
   ],
   "source": [
    "# rand and zeros dimensions\n",
    "import numpy as np \n",
    "import nnfs \n",
    "nnfs.init()\n",
    "\n",
    "matrix2_5=np.random.rand(2,5)\n",
    "baises=np.zeros((2,3))\n",
    "\n",
    "print(matrix2_5)\n"
   ]
  },
  {
   "cell_type": "code",
   "execution_count": 8,
   "metadata": {},
   "outputs": [
    {
     "name": "stdout",
     "output_type": "stream",
     "text": [
      "[[ 0.17640524  0.04001572  0.0978738   0.22408931]\n",
      " [ 0.1867558  -0.09772779  0.09500884 -0.01513572]]\n",
      "[[0. 0. 0. 0.]]\n"
     ]
    }
   ],
   "source": [
    "import numpy as np\n",
    "import nnfs\n",
    "nnfs.init()\n",
    "n_inputs = 2\n",
    "n_neurons = 4\n",
    "\n",
    "weights = 0.1 * np.random.randn(n_inputs,n_neurons)\n",
    "biases = np.zeros((1,n_neurons)) # 1 row n_neurons dimentions\n",
    "\n",
    "print(weights)\n",
    "\n",
    "print(biases)"
   ]
  },
  {
   "cell_type": "code",
   "execution_count": null,
   "metadata": {},
   "outputs": [],
   "source": [
    "# new class instead of hardcoded calculations\n",
    "import numpy as np \n",
    "import nnfs \n",
    "nnfs.init()\n",
    "from nnfs.datasets import spiral_data\n",
    "\n",
    "\n",
    "class Layer_Dense :\n",
    "    def _init_(self,n_inputs,n_neurons):\n",
    "        self.weights=0.01*np.random.rand(n_inputs,n_neurons)\n",
    "        self.biases=np.zeros((1,n_neurons))\n",
    "        \n",
    "    def forward(self,inputs):\n",
    "        self.output=np.dot(inputs,self.weights)+self.biases \n",
    "\n",
    "X,y=spiral_data(samples=100,classes=3)\n",
    "\n",
    "# Create Dense layer with 2 input features and 3 output values\n",
    "dense1=Layer_Dense(2,3)\n",
    "dense1.forward(X)\n",
    "\n"
   ]
  }
 ],
 "metadata": {
  "kernelspec": {
   "display_name": "Python 3",
   "language": "python",
   "name": "python3"
  },
  "language_info": {
   "codemirror_mode": {
    "name": "ipython",
    "version": 3
   },
   "file_extension": ".py",
   "mimetype": "text/x-python",
   "name": "python",
   "nbconvert_exporter": "python",
   "pygments_lexer": "ipython3",
   "version": "3.10.5"
  },
  "orig_nbformat": 4
 },
 "nbformat": 4,
 "nbformat_minor": 2
}
