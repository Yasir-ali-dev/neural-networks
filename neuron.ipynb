{
 "cells": [
  {
   "cell_type": "code",
   "execution_count": 1,
   "metadata": {},
   "outputs": [],
   "source": [
    "inputs = [ 1 , 2 , 3 ]\n",
    "weights = [ 0.2 , 0.8 , - 0.5 ]\n",
    "bias = 2"
   ]
  },
  {
   "cell_type": "code",
   "execution_count": 2,
   "metadata": {},
   "outputs": [
    {
     "name": "stdout",
     "output_type": "stream",
     "text": [
      "2.3\n"
     ]
    }
   ],
   "source": [
    "output=(inputs[0]*weights[0]+inputs[1]*weights[1]+inputs[2]*weights[2])+bias\n",
    "print(output)\n"
   ]
  },
  {
   "cell_type": "code",
   "execution_count": 3,
   "metadata": {},
   "outputs": [],
   "source": [
    "inputs = [ 1.0 , 2.0 , 3.0 , 2.5 ]\n",
    "weights = [ 0.2 , 0.8 , - 0.5 , 1.0 ]\n",
    "bias = 2.0"
   ]
  },
  {
   "cell_type": "code",
   "execution_count": 5,
   "metadata": {},
   "outputs": [
    {
     "name": "stdout",
     "output_type": "stream",
     "text": [
      "4.8\n"
     ]
    }
   ],
   "source": [
    "output=(inputs[0]*weights[0]+inputs[1]*weights[1]+inputs[2]*weights[2]+inputs[3]*weights[3])+bias\n",
    "print(output)"
   ]
  },
  {
   "cell_type": "code",
   "execution_count": 1,
   "metadata": {},
   "outputs": [
    {
     "name": "stdout",
     "output_type": "stream",
     "text": [
      "[4.8, 1.21, 2.385]\n"
     ]
    }
   ],
   "source": [
    "inputs = [ 1 , 2 , 3 , 2.5 ]\n",
    "weights = [\n",
    "    [ 0.2 , 0.8 , - 0.5 , 1 ],\n",
    "    [ 0.5 , - 0.91 , 0.26 , - 0.5 ],\n",
    "    [ - 0.26 , - 0.27 , 0.17 , 0.87 ]\n",
    "]\n",
    "biases = [ 2 , 3 , 0.5 ]\n",
    "# Output of current layer\n",
    "layer_outputs = []\n",
    "\n",
    "for n_biases, neuron_weights in zip(biases,weights):\n",
    "    output_neuron=0\n",
    "\n",
    "    for n_inputs, weight in zip(inputs,neuron_weights):\n",
    "        output_neuron+= n_inputs*weight\n",
    "\n",
    "    output_neuron+=n_biases    \n",
    "    layer_outputs.append(output_neuron)\n",
    "\n",
    "print(layer_outputs)    \n"
   ]
  },
  {
   "cell_type": "code",
   "execution_count": 3,
   "metadata": {},
   "outputs": [
    {
     "name": "stdout",
     "output_type": "stream",
     "text": [
      "20\n"
     ]
    }
   ],
   "source": [
    "# dot product \n",
    "\n",
    "a = [ 1 , 2 , 3 ]\n",
    "b = [ 2 , 3 , 4 ]\n",
    "\n",
    "dot_product=0\n",
    "for as_elem,bs_elem in zip(a,b):\n",
    "    dot_product+=as_elem*bs_elem\n",
    "\n",
    "print(dot_product)    "
   ]
  },
  {
   "cell_type": "code",
   "execution_count": 6,
   "metadata": {},
   "outputs": [
    {
     "name": "stdout",
     "output_type": "stream",
     "text": [
      "4.8\n"
     ]
    }
   ],
   "source": [
    "# A single neuron with numpy\n",
    "import numpy as np\n",
    "inputs = [ 1.0 , 2.0 , 3.0 , 2.5 ]\n",
    "weights = [ 0.2 , 0.8 , - 0.5 , 1.0 ]\n",
    "bias = 2.0\n",
    "\n",
    "dot_product=np.dot(inputs,weights)+bias\n",
    "print(dot_product)"
   ]
  },
  {
   "cell_type": "code",
   "execution_count": 11,
   "metadata": {},
   "outputs": [
    {
     "name": "stdout",
     "output_type": "stream",
     "text": [
      "[4.8   1.21  2.385]\n"
     ]
    }
   ],
   "source": [
    "# A Layer of Neurons with NumPy\n",
    "import numpy as np\n",
    "inputs = [ 1.0 , 2.0 , 3.0 , 2.5 ]\n",
    "weights = [\n",
    "    [ 0.2 , 0.8 , - 0.5 , 1 ],\n",
    "    [ 0.5 , - 0.91 , 0.26 , - 0.5 ],\n",
    "    [ - 0.26 , - 0.27 , 0.17 , 0.87 ]\n",
    "]\n",
    "biases = [ 2.0 , 3.0 , 0.5 ]\n",
    "\n",
    "dot_product=np.dot(weights,inputs)+biases\n",
    "print(dot_product)"
   ]
  },
  {
   "cell_type": "code",
   "execution_count": 16,
   "metadata": {},
   "outputs": [
    {
     "name": "stdout",
     "output_type": "stream",
     "text": [
      "[[30]]\n"
     ]
    }
   ],
   "source": [
    "# row matrix and column matrix \n",
    "a=[[1,3,4]]\n",
    "b=[[1],\n",
    "   [3],\n",
    "   [5]]\n",
    "\n",
    "print(np.dot(a,b))"
   ]
  },
  {
   "cell_type": "code",
   "execution_count": 30,
   "metadata": {},
   "outputs": [
    {
     "name": "stdout",
     "output_type": "stream",
     "text": [
      "[[13]]\n"
     ]
    }
   ],
   "source": [
    "# Transposition\n",
    "\n",
    "import numpy as np\n",
    "a=[1,3,4]\n",
    "b=[3,2,1]\n",
    "\n",
    "a=np.array([a])\n",
    "# transposition\n",
    "b=np.array([b]).T\n",
    "\n",
    "dot_product=np.dot(a,b)\n",
    "print(dot_product)"
   ]
  },
  {
   "cell_type": "code",
   "execution_count": 32,
   "metadata": {},
   "outputs": [
    {
     "name": "stdout",
     "output_type": "stream",
     "text": [
      "[[ 4.8    1.21   2.385]\n",
      " [ 8.9   -1.81   0.2  ]\n",
      " [ 1.41   1.051  0.026]]\n"
     ]
    }
   ],
   "source": [
    "# A Layer of Neurons & Batch of Data w/ NumPy\n",
    "import numpy as np\n",
    "inputs = [\n",
    "    [ 1.0 , 2.0 , 3.0 , 2.5 ],\n",
    "    [ 2.0 , 5.0 , - 1.0 , 2.0 ],\n",
    "    [ - 1.5 , 2.7 , 3.3 , - 0.8 ]\n",
    "]\n",
    "weights = [\n",
    "    [ 0.2 , 0.8 , - 0.5 , 1.0 ],\n",
    "    [ 0.5 , - 0.91 , 0.26 , - 0.5 ],\n",
    "    [ - 0.26 , - 0.27 , 0.17 , 0.87 ]\n",
    "]\n",
    "biases = [ 2.0 , 3.0 , 0.5 ]\n",
    "\n",
    "weights=np.array(weights).T #transposition matrixes \n",
    "layer_output=np.dot(inputs,weights)+biases\n",
    "print(layer_output)\n"
   ]
  }
 ],
 "metadata": {
  "kernelspec": {
   "display_name": "Python 3",
   "language": "python",
   "name": "python3"
  },
  "language_info": {
   "codemirror_mode": {
    "name": "ipython",
    "version": 3
   },
   "file_extension": ".py",
   "mimetype": "text/x-python",
   "name": "python",
   "nbconvert_exporter": "python",
   "pygments_lexer": "ipython3",
   "version": "3.10.5"
  },
  "orig_nbformat": 4
 },
 "nbformat": 4,
 "nbformat_minor": 2
}
